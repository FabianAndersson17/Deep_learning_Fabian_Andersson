{
 "cells": [
  {
   "cell_type": "markdown",
   "metadata": {},
   "source": []
  },
  {
   "cell_type": "code",
   "execution_count": 20,
   "metadata": {},
   "outputs": [
    {
     "data": {
      "text/html": [
       "<div>\n",
       "<style scoped>\n",
       "    .dataframe tbody tr th:only-of-type {\n",
       "        vertical-align: middle;\n",
       "    }\n",
       "\n",
       "    .dataframe tbody tr th {\n",
       "        vertical-align: top;\n",
       "    }\n",
       "\n",
       "    .dataframe thead th {\n",
       "        text-align: right;\n",
       "    }\n",
       "</style>\n",
       "<table border=\"1\" class=\"dataframe\">\n",
       "  <thead>\n",
       "    <tr style=\"text-align: right;\">\n",
       "      <th></th>\n",
       "      <th>mpg</th>\n",
       "      <th>cylinders</th>\n",
       "      <th>displacement</th>\n",
       "      <th>horsepower</th>\n",
       "      <th>weight</th>\n",
       "      <th>acceleration</th>\n",
       "      <th>model_year</th>\n",
       "      <th>origin</th>\n",
       "    </tr>\n",
       "  </thead>\n",
       "  <tbody>\n",
       "    <tr>\n",
       "      <th>0</th>\n",
       "      <td>18.0</td>\n",
       "      <td>8</td>\n",
       "      <td>307.0</td>\n",
       "      <td>130.0</td>\n",
       "      <td>3504</td>\n",
       "      <td>12.0</td>\n",
       "      <td>70</td>\n",
       "      <td>usa</td>\n",
       "    </tr>\n",
       "    <tr>\n",
       "      <th>1</th>\n",
       "      <td>15.0</td>\n",
       "      <td>8</td>\n",
       "      <td>350.0</td>\n",
       "      <td>165.0</td>\n",
       "      <td>3693</td>\n",
       "      <td>11.5</td>\n",
       "      <td>70</td>\n",
       "      <td>usa</td>\n",
       "    </tr>\n",
       "    <tr>\n",
       "      <th>2</th>\n",
       "      <td>18.0</td>\n",
       "      <td>8</td>\n",
       "      <td>318.0</td>\n",
       "      <td>150.0</td>\n",
       "      <td>3436</td>\n",
       "      <td>11.0</td>\n",
       "      <td>70</td>\n",
       "      <td>usa</td>\n",
       "    </tr>\n",
       "    <tr>\n",
       "      <th>3</th>\n",
       "      <td>16.0</td>\n",
       "      <td>8</td>\n",
       "      <td>304.0</td>\n",
       "      <td>150.0</td>\n",
       "      <td>3433</td>\n",
       "      <td>12.0</td>\n",
       "      <td>70</td>\n",
       "      <td>usa</td>\n",
       "    </tr>\n",
       "    <tr>\n",
       "      <th>4</th>\n",
       "      <td>17.0</td>\n",
       "      <td>8</td>\n",
       "      <td>302.0</td>\n",
       "      <td>140.0</td>\n",
       "      <td>3449</td>\n",
       "      <td>10.5</td>\n",
       "      <td>70</td>\n",
       "      <td>usa</td>\n",
       "    </tr>\n",
       "    <tr>\n",
       "      <th>5</th>\n",
       "      <td>15.0</td>\n",
       "      <td>8</td>\n",
       "      <td>429.0</td>\n",
       "      <td>198.0</td>\n",
       "      <td>4341</td>\n",
       "      <td>10.0</td>\n",
       "      <td>70</td>\n",
       "      <td>usa</td>\n",
       "    </tr>\n",
       "    <tr>\n",
       "      <th>6</th>\n",
       "      <td>14.0</td>\n",
       "      <td>8</td>\n",
       "      <td>454.0</td>\n",
       "      <td>220.0</td>\n",
       "      <td>4354</td>\n",
       "      <td>9.0</td>\n",
       "      <td>70</td>\n",
       "      <td>usa</td>\n",
       "    </tr>\n",
       "    <tr>\n",
       "      <th>7</th>\n",
       "      <td>14.0</td>\n",
       "      <td>8</td>\n",
       "      <td>440.0</td>\n",
       "      <td>215.0</td>\n",
       "      <td>4312</td>\n",
       "      <td>8.5</td>\n",
       "      <td>70</td>\n",
       "      <td>usa</td>\n",
       "    </tr>\n",
       "  </tbody>\n",
       "</table>\n",
       "</div>"
      ],
      "text/plain": [
       "    mpg  cylinders  displacement  horsepower  weight  acceleration  \\\n",
       "0  18.0          8         307.0       130.0    3504          12.0   \n",
       "1  15.0          8         350.0       165.0    3693          11.5   \n",
       "2  18.0          8         318.0       150.0    3436          11.0   \n",
       "3  16.0          8         304.0       150.0    3433          12.0   \n",
       "4  17.0          8         302.0       140.0    3449          10.5   \n",
       "5  15.0          8         429.0       198.0    4341          10.0   \n",
       "6  14.0          8         454.0       220.0    4354           9.0   \n",
       "7  14.0          8         440.0       215.0    4312           8.5   \n",
       "\n",
       "   model_year origin  \n",
       "0          70    usa  \n",
       "1          70    usa  \n",
       "2          70    usa  \n",
       "3          70    usa  \n",
       "4          70    usa  \n",
       "5          70    usa  \n",
       "6          70    usa  \n",
       "7          70    usa  "
      ]
     },
     "execution_count": 20,
     "metadata": {},
     "output_type": "execute_result"
    }
   ],
   "source": [
    "import seaborn as sns\n",
    "import pandas as pd\n",
    "import matplotlib.pyplot as plt\n",
    "import numpy as np\n",
    "\n",
    "plt.style.use(\"seaborn-white\")\n",
    "df = sns.load_dataset(\"mpg\").drop(\"name\", axis=1)\n",
    "\n",
    "df.head(8)"
   ]
  },
  {
   "cell_type": "code",
   "execution_count": 21,
   "metadata": {},
   "outputs": [
    {
     "data": {
      "text/plain": [
       "<AxesSubplot:>"
      ]
     },
     "execution_count": 21,
     "metadata": {},
     "output_type": "execute_result"
    },
    {
     "data": {
      "image/png": "[encoded data removed]",
      "text/plain": [
       "<Figure size 432x288 with 1 Axes>"
      ]
     },
     "metadata": {},
     "output_type": "display_data"
    }
   ],
   "source": [
    "df[\"origin\"].value_counts().plot(kind=\"bar\")"
   ]
  },
  {
   "cell_type": "code",
   "execution_count": 22,
   "metadata": {},
   "outputs": [
    {
     "name": "stdout",
     "output_type": "stream",
     "text": [
      "<class 'pandas.core.frame.DataFrame'>\n",
      "RangeIndex: 398 entries, 0 to 397\n",
      "Data columns (total 8 columns):\n",
      " #   Column        Non-Null Count  Dtype  \n",
      "---  ------        --------------  -----  \n",
      " 0   mpg           398 non-null    float64\n",
      " 1   cylinders     398 non-null    int64  \n",
      " 2   displacement  398 non-null    float64\n",
      " 3   horsepower    392 non-null    float64\n",
      " 4   weight        398 non-null    int64  \n",
      " 5   acceleration  398 non-null    float64\n",
      " 6   model_year    398 non-null    int64  \n",
      " 7   origin        398 non-null    object \n",
      "dtypes: float64(4), int64(3), object(1)\n",
      "memory usage: 25.0+ KB\n"
     ]
    }
   ],
   "source": [
    "df.info()"
   ]
  },
  {
   "cell_type": "code",
   "execution_count": 23,
   "metadata": {},
   "outputs": [
    {
     "data": {
      "text/html": [
       "<div>\n",
       "<style scoped>\n",
       "    .dataframe tbody tr th:only-of-type {\n",
       "        vertical-align: middle;\n",
       "    }\n",
       "\n",
       "    .dataframe tbody tr th {\n",
       "        vertical-align: top;\n",
       "    }\n",
       "\n",
       "    .dataframe thead th {\n",
       "        text-align: right;\n",
       "    }\n",
       "</style>\n",
       "<table border=\"1\" class=\"dataframe\">\n",
       "  <thead>\n",
       "    <tr style=\"text-align: right;\">\n",
       "      <th></th>\n",
       "      <th>mpg</th>\n",
       "      <th>cylinders</th>\n",
       "      <th>displacement</th>\n",
       "      <th>horsepower</th>\n",
       "      <th>weight</th>\n",
       "      <th>acceleration</th>\n",
       "      <th>model_year</th>\n",
       "      <th>origin</th>\n",
       "    </tr>\n",
       "  </thead>\n",
       "  <tbody>\n",
       "    <tr>\n",
       "      <th>32</th>\n",
       "      <td>25.0</td>\n",
       "      <td>4</td>\n",
       "      <td>98.0</td>\n",
       "      <td>NaN</td>\n",
       "      <td>2046</td>\n",
       "      <td>19.0</td>\n",
       "      <td>71</td>\n",
       "      <td>usa</td>\n",
       "    </tr>\n",
       "    <tr>\n",
       "      <th>126</th>\n",
       "      <td>21.0</td>\n",
       "      <td>6</td>\n",
       "      <td>200.0</td>\n",
       "      <td>NaN</td>\n",
       "      <td>2875</td>\n",
       "      <td>17.0</td>\n",
       "      <td>74</td>\n",
       "      <td>usa</td>\n",
       "    </tr>\n",
       "    <tr>\n",
       "      <th>330</th>\n",
       "      <td>40.9</td>\n",
       "      <td>4</td>\n",
       "      <td>85.0</td>\n",
       "      <td>NaN</td>\n",
       "      <td>1835</td>\n",
       "      <td>17.3</td>\n",
       "      <td>80</td>\n",
       "      <td>europe</td>\n",
       "    </tr>\n",
       "    <tr>\n",
       "      <th>336</th>\n",
       "      <td>23.6</td>\n",
       "      <td>4</td>\n",
       "      <td>140.0</td>\n",
       "      <td>NaN</td>\n",
       "      <td>2905</td>\n",
       "      <td>14.3</td>\n",
       "      <td>80</td>\n",
       "      <td>usa</td>\n",
       "    </tr>\n",
       "    <tr>\n",
       "      <th>354</th>\n",
       "      <td>34.5</td>\n",
       "      <td>4</td>\n",
       "      <td>100.0</td>\n",
       "      <td>NaN</td>\n",
       "      <td>2320</td>\n",
       "      <td>15.8</td>\n",
       "      <td>81</td>\n",
       "      <td>europe</td>\n",
       "    </tr>\n",
       "    <tr>\n",
       "      <th>374</th>\n",
       "      <td>23.0</td>\n",
       "      <td>4</td>\n",
       "      <td>151.0</td>\n",
       "      <td>NaN</td>\n",
       "      <td>3035</td>\n",
       "      <td>20.5</td>\n",
       "      <td>82</td>\n",
       "      <td>usa</td>\n",
       "    </tr>\n",
       "  </tbody>\n",
       "</table>\n",
       "</div>"
      ],
      "text/plain": [
       "      mpg  cylinders  displacement  horsepower  weight  acceleration  \\\n",
       "32   25.0          4          98.0         NaN    2046          19.0   \n",
       "126  21.0          6         200.0         NaN    2875          17.0   \n",
       "330  40.9          4          85.0         NaN    1835          17.3   \n",
       "336  23.6          4         140.0         NaN    2905          14.3   \n",
       "354  34.5          4         100.0         NaN    2320          15.8   \n",
       "374  23.0          4         151.0         NaN    3035          20.5   \n",
       "\n",
       "     model_year  origin  \n",
       "32           71     usa  \n",
       "126          74     usa  \n",
       "330          80  europe  \n",
       "336          80     usa  \n",
       "354          81  europe  \n",
       "374          82     usa  "
      ]
     },
     "execution_count": 23,
     "metadata": {},
     "output_type": "execute_result"
    }
   ],
   "source": [
    "df.query(\"horsepower.isna()\")"
   ]
  },
  {
   "cell_type": "code",
   "execution_count": 24,
   "metadata": {},
   "outputs": [],
   "source": [
    "df.dropna(inplace=True, axis=0)"
   ]
  },
  {
   "cell_type": "code",
   "execution_count": 25,
   "metadata": {},
   "outputs": [
    {
     "data": {
      "text/plain": [
       "<AxesSubplot:>"
      ]
     },
     "execution_count": 25,
     "metadata": {},
     "output_type": "execute_result"
    },
    {
     "data": {
      "image/png": "[encoded data removed]",
      "text/plain": [
       "<Figure size 432x288 with 1 Axes>"
      ]
     },
     "metadata": {},
     "output_type": "display_data"
    }
   ],
   "source": [
    "df[\"model_year\"].value_counts().sort_index().plot(kind=\"bar\")"
   ]
  },
  {
   "cell_type": "code",
   "execution_count": 26,
   "metadata": {},
   "outputs": [
    {
     "data": {
      "text/html": [
       "<div>\n",
       "<style scoped>\n",
       "    .dataframe tbody tr th:only-of-type {\n",
       "        vertical-align: middle;\n",
       "    }\n",
       "\n",
       "    .dataframe tbody tr th {\n",
       "        vertical-align: top;\n",
       "    }\n",
       "\n",
       "    .dataframe thead th {\n",
       "        text-align: right;\n",
       "    }\n",
       "</style>\n",
       "<table border=\"1\" class=\"dataframe\">\n",
       "  <thead>\n",
       "    <tr style=\"text-align: right;\">\n",
       "      <th></th>\n",
       "      <th>mpg</th>\n",
       "      <th>cylinders</th>\n",
       "      <th>displacement</th>\n",
       "      <th>horsepower</th>\n",
       "      <th>weight</th>\n",
       "      <th>acceleration</th>\n",
       "      <th>model_year_(74, 77]</th>\n",
       "      <th>model_year_(78, 82]</th>\n",
       "      <th>origin_japan</th>\n",
       "      <th>origin_usa</th>\n",
       "    </tr>\n",
       "  </thead>\n",
       "  <tbody>\n",
       "    <tr>\n",
       "      <th>0</th>\n",
       "      <td>18.0</td>\n",
       "      <td>8</td>\n",
       "      <td>307.0</td>\n",
       "      <td>130.0</td>\n",
       "      <td>3504</td>\n",
       "      <td>12.0</td>\n",
       "      <td>0</td>\n",
       "      <td>0</td>\n",
       "      <td>0</td>\n",
       "      <td>1</td>\n",
       "    </tr>\n",
       "    <tr>\n",
       "      <th>1</th>\n",
       "      <td>15.0</td>\n",
       "      <td>8</td>\n",
       "      <td>350.0</td>\n",
       "      <td>165.0</td>\n",
       "      <td>3693</td>\n",
       "      <td>11.5</td>\n",
       "      <td>0</td>\n",
       "      <td>0</td>\n",
       "      <td>0</td>\n",
       "      <td>1</td>\n",
       "    </tr>\n",
       "    <tr>\n",
       "      <th>2</th>\n",
       "      <td>18.0</td>\n",
       "      <td>8</td>\n",
       "      <td>318.0</td>\n",
       "      <td>150.0</td>\n",
       "      <td>3436</td>\n",
       "      <td>11.0</td>\n",
       "      <td>0</td>\n",
       "      <td>0</td>\n",
       "      <td>0</td>\n",
       "      <td>1</td>\n",
       "    </tr>\n",
       "    <tr>\n",
       "      <th>3</th>\n",
       "      <td>16.0</td>\n",
       "      <td>8</td>\n",
       "      <td>304.0</td>\n",
       "      <td>150.0</td>\n",
       "      <td>3433</td>\n",
       "      <td>12.0</td>\n",
       "      <td>0</td>\n",
       "      <td>0</td>\n",
       "      <td>0</td>\n",
       "      <td>1</td>\n",
       "    </tr>\n",
       "    <tr>\n",
       "      <th>4</th>\n",
       "      <td>17.0</td>\n",
       "      <td>8</td>\n",
       "      <td>302.0</td>\n",
       "      <td>140.0</td>\n",
       "      <td>3449</td>\n",
       "      <td>10.5</td>\n",
       "      <td>0</td>\n",
       "      <td>0</td>\n",
       "      <td>0</td>\n",
       "      <td>1</td>\n",
       "    </tr>\n",
       "  </tbody>\n",
       "</table>\n",
       "</div>"
      ],
      "text/plain": [
       "    mpg  cylinders  displacement  horsepower  weight  acceleration  \\\n",
       "0  18.0          8         307.0       130.0    3504          12.0   \n",
       "1  15.0          8         350.0       165.0    3693          11.5   \n",
       "2  18.0          8         318.0       150.0    3436          11.0   \n",
       "3  16.0          8         304.0       150.0    3433          12.0   \n",
       "4  17.0          8         302.0       140.0    3449          10.5   \n",
       "\n",
       "   model_year_(74, 77]  model_year_(78, 82]  origin_japan  origin_usa  \n",
       "0                    0                    0             0           1  \n",
       "1                    0                    0             0           1  \n",
       "2                    0                    0             0           1  \n",
       "3                    0                    0             0           1  \n",
       "4                    0                    0             0           1  "
      ]
     },
     "execution_count": 26,
     "metadata": {},
     "output_type": "execute_result"
    }
   ],
   "source": [
    "bins = pd.IntervalIndex.from_tuples([(69, 73), (74,77), (78,82)])\n",
    "\n",
    "df[\"model_year\"] = pd.cut(df[\"model_year\"], bins=bins)\n",
    "\n",
    "df = pd.get_dummies(df, columns=[\"model_year\", \"origin\"], drop_first=True)\n",
    "df.head()"
   ]
  },
  {
   "cell_type": "code",
   "execution_count": 30,
   "metadata": {},
   "outputs": [
    {
     "data": {
      "text/plain": [
       "((262, 9), (130, 9))"
      ]
     },
     "execution_count": 30,
     "metadata": {},
     "output_type": "execute_result"
    }
   ],
   "source": [
    "from sklearn.model_selection import train_test_split\n",
    "from sklearn.preprocessing import StandardScaler\n",
    "\n",
    "scaler = StandardScaler()\n",
    "\n",
    "X, y = df.drop(\"mpg\", axis=1).values, df[\"mpg\"].values\n",
    "\n",
    "X_train, X_test, y_train, y_test = train_test_split(X, y, test_size=0.33, random_state=42)\n",
    "\n",
    "scaled_X_train = scaler.fit_transform(X_train)\n",
    "scaled_X_test = scaler.transform(X_test)\n",
    "\n",
    "scaled_X_train.shape, scaled_X_test.shape"
   ]
  },
  {
   "cell_type": "markdown",
   "metadata": {},
   "source": [
    "## Multiple linear regression"
   ]
  },
  {
   "cell_type": "code",
   "execution_count": 31,
   "metadata": {},
   "outputs": [
    {
     "data": {
      "text/plain": [
       "(23.561068702290076,\n",
       " array([-0.11056921,  1.00558819, -1.74414263, -4.59937884,  0.00523216,\n",
       "         0.33079024,  2.67355484,  0.0757955 , -1.25601116]))"
      ]
     },
     "execution_count": 31,
     "metadata": {},
     "output_type": "execute_result"
    }
   ],
   "source": [
    "from sklearn.linear_model import LinearRegression\n",
    "\n",
    "model_lin_reg = LinearRegression()\n",
    "model_lin_reg.fit(scaled_X_train, y_train)\n",
    "\n",
    "intercept, coefficients = model_lin_reg.intercept_, model_lin_reg.coef_\n",
    "\n",
    "intercept, coefficients"
   ]
  },
  {
   "cell_type": "markdown",
   "metadata": {},
   "source": [
    "## Artificial Neural Network (ANN)\n",
    "\n",
    "- shallow MLP"
   ]
  },
  {
   "cell_type": "code",
   "execution_count": 36,
   "metadata": {},
   "outputs": [
    {
     "name": "stdout",
     "output_type": "stream",
     "text": [
      "Model: \"Shallow_network\"\n",
      "_________________________________________________________________\n",
      " Layer (type)                Output Shape              Param #   \n",
      "=================================================================\n",
      " Output_layer (Dense)        (None, 1)                 10        \n",
      "                                                                 \n",
      "=================================================================\n",
      "Total params: 10\n",
      "Trainable params: 10\n",
      "Non-trainable params: 0\n",
      "_________________________________________________________________\n"
     ]
    }
   ],
   "source": [
    "from tensorflow.keras import Sequential\n",
    "from tensorflow.keras.layers import Dense, InputLayer\n",
    "from tensorflow.keras.optimizers import SGD\n",
    "\n",
    "model_shallow = Sequential(name = \"Shallow_network\")\n",
    "model_shallow.add(InputLayer(X_train.shape[1]))\n",
    "model_shallow.add(Dense(1, name = \"Output_layer\")) ## Note no activation function --> linear activation\n",
    "model_shallow.compile(loss = \"mean_squared_error\", optimizer=SGD(learning_rate=0.01))\n",
    "model_shallow.summary()"
   ]
  },
  {
   "cell_type": "code",
   "execution_count": 38,
   "metadata": {},
   "outputs": [
    {
     "name": "stdout",
     "output_type": "stream",
     "text": [
      "Epoch 1/50\n",
      "9/9 [==============================] - 1s 27ms/step - loss: 520.2778 - val_loss: 368.3412\n",
      "Epoch 2/50\n",
      "9/9 [==============================] - 0s 6ms/step - loss: 352.1439 - val_loss: 251.9287\n",
      "Epoch 3/50\n",
      "9/9 [==============================] - 0s 9ms/step - loss: 248.8605 - val_loss: 172.5190\n",
      "Epoch 4/50\n",
      "9/9 [==============================] - 0s 7ms/step - loss: 175.8627 - val_loss: 121.1236\n",
      "Epoch 5/50\n",
      "9/9 [==============================] - 0s 8ms/step - loss: 126.2428 - val_loss: 83.7286\n",
      "Epoch 6/50\n",
      "9/9 [==============================] - 0s 9ms/step - loss: 91.2939 - val_loss: 58.9583\n",
      "Epoch 7/50\n",
      "9/9 [==============================] - 0s 8ms/step - loss: 67.0032 - val_loss: 42.7053\n",
      "Epoch 8/50\n",
      "9/9 [==============================] - 0s 7ms/step - loss: 50.8052 - val_loss: 31.1841\n",
      "Epoch 9/50\n",
      "9/9 [==============================] - 0s 6ms/step - loss: 38.8884 - val_loss: 23.7810\n",
      "Epoch 10/50\n",
      "9/9 [==============================] - 0s 8ms/step - loss: 30.8080 - val_loss: 18.8458\n",
      "Epoch 11/50\n",
      "9/9 [==============================] - 0s 9ms/step - loss: 25.3543 - val_loss: 15.4375\n",
      "Epoch 12/50\n",
      "9/9 [==============================] - 0s 11ms/step - loss: 21.3384 - val_loss: 13.3780\n",
      "Epoch 13/50\n",
      "9/9 [==============================] - 0s 22ms/step - loss: 18.6775 - val_loss: 12.1256\n",
      "Epoch 14/50\n",
      "9/9 [==============================] - 0s 7ms/step - loss: 16.6969 - val_loss: 11.1706\n",
      "Epoch 15/50\n",
      "9/9 [==============================] - 0s 7ms/step - loss: 15.2653 - val_loss: 10.4222\n",
      "Epoch 16/50\n",
      "9/9 [==============================] - 0s 7ms/step - loss: 14.1835 - val_loss: 10.2548\n",
      "Epoch 17/50\n",
      "9/9 [==============================] - 0s 7ms/step - loss: 13.4739 - val_loss: 9.8282\n",
      "Epoch 18/50\n",
      "9/9 [==============================] - 0s 5ms/step - loss: 13.0128 - val_loss: 9.5939\n",
      "Epoch 19/50\n",
      "9/9 [==============================] - 0s 9ms/step - loss: 12.6932 - val_loss: 9.8710\n",
      "Epoch 20/50\n",
      "9/9 [==============================] - 0s 6ms/step - loss: 12.4486 - val_loss: 9.8688\n",
      "Epoch 21/50\n",
      "9/9 [==============================] - 0s 5ms/step - loss: 12.2235 - val_loss: 9.5819\n",
      "Epoch 22/50\n",
      "9/9 [==============================] - 0s 5ms/step - loss: 12.1431 - val_loss: 9.8193\n",
      "Epoch 23/50\n",
      "9/9 [==============================] - 0s 6ms/step - loss: 11.9807 - val_loss: 9.7974\n",
      "Epoch 24/50\n",
      "9/9 [==============================] - 0s 6ms/step - loss: 11.9605 - val_loss: 9.9442\n",
      "Epoch 25/50\n",
      "9/9 [==============================] - 0s 5ms/step - loss: 11.8888 - val_loss: 10.0200\n",
      "Epoch 26/50\n",
      "9/9 [==============================] - 0s 7ms/step - loss: 11.8559 - val_loss: 9.9500\n",
      "Epoch 27/50\n",
      "9/9 [==============================] - 0s 6ms/step - loss: 11.7962 - val_loss: 10.0085\n",
      "Epoch 28/50\n",
      "9/9 [==============================] - 0s 6ms/step - loss: 11.7671 - val_loss: 10.5516\n",
      "Epoch 29/50\n",
      "9/9 [==============================] - 0s 5ms/step - loss: 11.6872 - val_loss: 10.0053\n",
      "Epoch 30/50\n",
      "9/9 [==============================] - 0s 6ms/step - loss: 11.7098 - val_loss: 10.1575\n",
      "Epoch 31/50\n",
      "9/9 [==============================] - 0s 5ms/step - loss: 11.6095 - val_loss: 10.3900\n",
      "Epoch 32/50\n",
      "9/9 [==============================] - 0s 7ms/step - loss: 11.6127 - val_loss: 10.4427\n",
      "Epoch 33/50\n",
      "9/9 [==============================] - 0s 5ms/step - loss: 11.6070 - val_loss: 11.3005\n",
      "Epoch 34/50\n",
      "9/9 [==============================] - 0s 5ms/step - loss: 11.6599 - val_loss: 10.6380\n",
      "Epoch 35/50\n",
      "9/9 [==============================] - 0s 7ms/step - loss: 11.5719 - val_loss: 10.7475\n",
      "Epoch 36/50\n",
      "9/9 [==============================] - 0s 6ms/step - loss: 11.5031 - val_loss: 10.2845\n",
      "Epoch 37/50\n",
      "9/9 [==============================] - 0s 5ms/step - loss: 11.5559 - val_loss: 10.1909\n",
      "Epoch 38/50\n",
      "9/9 [==============================] - 0s 6ms/step - loss: 11.4894 - val_loss: 10.3327\n",
      "Epoch 39/50\n",
      "9/9 [==============================] - 0s 5ms/step - loss: 11.4739 - val_loss: 10.9631\n",
      "Epoch 40/50\n",
      "9/9 [==============================] - 0s 7ms/step - loss: 11.5273 - val_loss: 10.4994\n",
      "Epoch 41/50\n",
      "9/9 [==============================] - 0s 5ms/step - loss: 11.4393 - val_loss: 10.4103\n",
      "Epoch 42/50\n",
      "9/9 [==============================] - 0s 7ms/step - loss: 11.4659 - val_loss: 10.0709\n",
      "Epoch 43/50\n",
      "9/9 [==============================] - 0s 4ms/step - loss: 11.4195 - val_loss: 10.2655\n",
      "Epoch 44/50\n",
      "9/9 [==============================] - 0s 8ms/step - loss: 11.4541 - val_loss: 10.2592\n",
      "Epoch 45/50\n",
      "9/9 [==============================] - 0s 5ms/step - loss: 11.4027 - val_loss: 9.8478\n",
      "Epoch 46/50\n",
      "9/9 [==============================] - 0s 7ms/step - loss: 11.4334 - val_loss: 10.0983\n",
      "Epoch 47/50\n",
      "9/9 [==============================] - 0s 5ms/step - loss: 11.3723 - val_loss: 10.7092\n",
      "Epoch 48/50\n",
      "9/9 [==============================] - 0s 5ms/step - loss: 11.3652 - val_loss: 10.5339\n",
      "Epoch 49/50\n",
      "9/9 [==============================] - 0s 7ms/step - loss: 11.3460 - val_loss: 10.4967\n",
      "Epoch 50/50\n",
      "9/9 [==============================] - 0s 5ms/step - loss: 11.3243 - val_loss: 10.2477\n"
     ]
    },
    {
     "data": {
      "text/plain": [
       "<keras.callbacks.History at 0x18d6d125d60>"
      ]
     },
     "execution_count": 38,
     "metadata": {},
     "output_type": "execute_result"
    }
   ],
   "source": [
    "model_shallow.fit(scaled_X_train, y_train, epochs=50, verbose=1,\n",
    "                  validation_data=(scaled_X_test, y_test))"
   ]
  },
  {
   "cell_type": "code",
   "execution_count": 42,
   "metadata": {},
   "outputs": [
    {
     "data": {
      "text/html": [
       "<div>\n",
       "<style scoped>\n",
       "    .dataframe tbody tr th:only-of-type {\n",
       "        vertical-align: middle;\n",
       "    }\n",
       "\n",
       "    .dataframe tbody tr th {\n",
       "        vertical-align: top;\n",
       "    }\n",
       "\n",
       "    .dataframe thead th {\n",
       "        text-align: right;\n",
       "    }\n",
       "</style>\n",
       "<table border=\"1\" class=\"dataframe\">\n",
       "  <thead>\n",
       "    <tr style=\"text-align: right;\">\n",
       "      <th></th>\n",
       "      <th>loss</th>\n",
       "      <th>val_loss</th>\n",
       "    </tr>\n",
       "  </thead>\n",
       "  <tbody>\n",
       "    <tr>\n",
       "      <th>0</th>\n",
       "      <td>520.277771</td>\n",
       "      <td>368.341248</td>\n",
       "    </tr>\n",
       "    <tr>\n",
       "      <th>1</th>\n",
       "      <td>352.143890</td>\n",
       "      <td>251.928726</td>\n",
       "    </tr>\n",
       "    <tr>\n",
       "      <th>2</th>\n",
       "      <td>248.860474</td>\n",
       "      <td>172.518967</td>\n",
       "    </tr>\n",
       "    <tr>\n",
       "      <th>3</th>\n",
       "      <td>175.862671</td>\n",
       "      <td>121.123604</td>\n",
       "    </tr>\n",
       "    <tr>\n",
       "      <th>4</th>\n",
       "      <td>126.242767</td>\n",
       "      <td>83.728615</td>\n",
       "    </tr>\n",
       "  </tbody>\n",
       "</table>\n",
       "</div>"
      ],
      "text/plain": [
       "         loss    val_loss\n",
       "0  520.277771  368.341248\n",
       "1  352.143890  251.928726\n",
       "2  248.860474  172.518967\n",
       "3  175.862671  121.123604\n",
       "4  126.242767   83.728615"
      ]
     },
     "execution_count": 42,
     "metadata": {},
     "output_type": "execute_result"
    }
   ],
   "source": [
    "df_loss = pd.DataFrame(model_shallow.history.history)\n",
    "df_loss.head()"
   ]
  },
  {
   "cell_type": "code",
   "execution_count": 44,
   "metadata": {},
   "outputs": [
    {
     "data": {
      "text/html": [
       "<div>\n",
       "<style scoped>\n",
       "    .dataframe tbody tr th:only-of-type {\n",
       "        vertical-align: middle;\n",
       "    }\n",
       "\n",
       "    .dataframe tbody tr th {\n",
       "        vertical-align: top;\n",
       "    }\n",
       "\n",
       "    .dataframe thead th {\n",
       "        text-align: right;\n",
       "    }\n",
       "</style>\n",
       "<table border=\"1\" class=\"dataframe\">\n",
       "  <thead>\n",
       "    <tr style=\"text-align: right;\">\n",
       "      <th></th>\n",
       "      <th>loss</th>\n",
       "      <th>val_loss</th>\n",
       "    </tr>\n",
       "  </thead>\n",
       "  <tbody>\n",
       "    <tr>\n",
       "      <th>1</th>\n",
       "      <td>520.277771</td>\n",
       "      <td>368.341248</td>\n",
       "    </tr>\n",
       "    <tr>\n",
       "      <th>2</th>\n",
       "      <td>352.143890</td>\n",
       "      <td>251.928726</td>\n",
       "    </tr>\n",
       "    <tr>\n",
       "      <th>3</th>\n",
       "      <td>248.860474</td>\n",
       "      <td>172.518967</td>\n",
       "    </tr>\n",
       "    <tr>\n",
       "      <th>4</th>\n",
       "      <td>175.862671</td>\n",
       "      <td>121.123604</td>\n",
       "    </tr>\n",
       "    <tr>\n",
       "      <th>5</th>\n",
       "      <td>126.242767</td>\n",
       "      <td>83.728615</td>\n",
       "    </tr>\n",
       "  </tbody>\n",
       "</table>\n",
       "</div>"
      ],
      "text/plain": [
       "         loss    val_loss\n",
       "1  520.277771  368.341248\n",
       "2  352.143890  251.928726\n",
       "3  248.860474  172.518967\n",
       "4  175.862671  121.123604\n",
       "5  126.242767   83.728615"
      ]
     },
     "execution_count": 44,
     "metadata": {},
     "output_type": "execute_result"
    }
   ],
   "source": [
    "df_loss.index = range(1, len(df_loss)+1)\n",
    "df_loss.head()"
   ]
  },
  {
   "cell_type": "code",
   "execution_count": 45,
   "metadata": {},
   "outputs": [
    {
     "data": {
      "text/plain": [
       "<AxesSubplot:xlabel='Epochs', ylabel='MSE loss'>"
      ]
     },
     "execution_count": 45,
     "metadata": {},
     "output_type": "execute_result"
    },
    {
     "data": {
      "image/png": "[encoded data removed]",
      "text/plain": [
       "<Figure size 432x288 with 1 Axes>"
      ]
     },
     "metadata": {},
     "output_type": "display_data"
    }
   ],
   "source": [
    "df_loss.plot(xlabel=\"Epochs\", ylabel=\"MSE loss\")"
   ]
  },
  {
   "cell_type": "code",
   "execution_count": 46,
   "metadata": {},
   "outputs": [
    {
     "name": "stdout",
     "output_type": "stream",
     "text": [
      "Linear reg: intercept=23.561068702290076, coefficients=array([-0.11056921,  1.00558819, -1.74414263, -4.59937884,  0.00523216,\n",
      "        0.33079024,  2.67355484,  0.0757955 , -1.25601116])\n",
      "ANN bias=array([23.519123], dtype=float32), weights=array([[-0.24513017],\n",
      "       [-0.6212706 ],\n",
      "       [-1.8171463 ],\n",
      "       [-2.9931092 ],\n",
      "       [-0.2376727 ],\n",
      "       [ 0.19079323],\n",
      "       [ 2.588708  ],\n",
      "       [ 0.18643644],\n",
      "       [-0.92951304]], dtype=float32)\n"
     ]
    }
   ],
   "source": [
    "weights, bias = model_shallow.layers[0].get_weights()\n",
    "\n",
    "print(f\"Linear reg: {intercept=}, {coefficients=}\")\n",
    "print(f\"ANN {bias=}, {weights=}\")"
   ]
  },
  {
   "cell_type": "markdown",
   "metadata": {},
   "source": [
    "## Prediction and evaluation"
   ]
  },
  {
   "cell_type": "code",
   "execution_count": 47,
   "metadata": {},
   "outputs": [
    {
     "name": "stdout",
     "output_type": "stream",
     "text": [
      "MAE, RMSE for ANN\n",
      "10.247671256052348 1.605934988609704\n",
      "MAE, RMSE for linear regression\n",
      "10.164385186712916 1.6134489397848808\n"
     ]
    }
   ],
   "source": [
    "from sklearn.metrics import mean_absolute_error, mean_squared_error\n",
    "\n",
    "y_pred_ANN = model_shallow.predict(scaled_X_test)\n",
    "y_pred_lin_reg = model_lin_reg.predict(scaled_X_test)\n",
    "\n",
    "print(\"MAE, RMSE for ANN\")\n",
    "print(mean_squared_error(y_test, y_pred_ANN), np.sqrt(mean_absolute_error(y_test, y_pred_ANN)))\n",
    "\n",
    "print(\"MAE, RMSE for linear regression\")\n",
    "print(mean_squared_error(y_test, y_pred_lin_reg), np.sqrt(mean_absolute_error(y_test, y_pred_lin_reg)))"
   ]
  }
 ],
 "metadata": {
  "interpreter": {
   "hash": "d202e19925d324d789509f85a925160f99b20e93f733937fa1263122beace207"
  },
  "kernelspec": {
   "display_name": "Python 3.9.6 ('Databehandling-Fabian-Andersson-IEdN34wO')",
   "language": "python",
   "name": "python3"
  },
  "language_info": {
   "codemirror_mode": {
    "name": "ipython",
    "version": 3
   },
   "file_extension": ".py",
   "mimetype": "text/x-python",
   "name": "python",
   "nbconvert_exporter": "python",
   "pygments_lexer": "ipython3",
   "version": "3.9.6"
  },
  "orig_nbformat": 4
 },
 "nbformat": 4,
 "nbformat_minor": 2
}
